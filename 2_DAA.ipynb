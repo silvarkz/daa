{
 "cells": [
  {
   "cell_type": "code",
   "execution_count": 2,
   "id": "36f8135c",
   "metadata": {},
   "outputs": [
    {
     "name": "stdout",
     "output_type": "stream",
     "text": [
      "f -> 0\n",
      "c -> 100\n",
      "d -> 101\n",
      "a -> 1100\n",
      "b -> 1101\n",
      "e -> 111\n"
     ]
    }
   ],
   "source": [
    "import heapq\n",
    "#Creating Huffman tree node\n",
    "class Node:\n",
    "    def __init__(self, freq, symbol, left=None, right=None):\n",
    "        self.freq = freq # frequency of symbol\n",
    "        self.symbol = symbol # symbol name (character)\n",
    "        self.left = left # node left of the current node\n",
    "        self.right = right # node right of the current node\n",
    "        self.huff = '' # tree direction (0/1)\n",
    "    \n",
    "    def __lt__(self, nxt): # Check if current frequency is less than the next node's freq\n",
    "        return self.freq < nxt.freq\n",
    "\n",
    "    def print_nodes(self, val=''):\n",
    "        new_val = val + str(self.huff)\n",
    "        # if the node is not an edge node then traverse inside it\n",
    "        if self.left:\n",
    "            self.left.print_nodes(new_val)\n",
    "        if self.right:\n",
    "            self.right.print_nodes(new_val)\n",
    "        \n",
    "        # if the node is an edge node then display its Huffman code\n",
    "        if not self.left and not self.right:\n",
    "            print(\"{} -> {}\".format(self.symbol, new_val))\n",
    "\n",
    "if __name__ == \"__main__\":\n",
    "    chars = ['a', 'b', 'c', 'd', 'e', 'f']\n",
    "    freq = [5, 9, 12, 13, 16, 45]\n",
    "    nodes = []\n",
    "\n",
    "    for i in range(len(chars)): # converting characters and frequencies into Huffman tree node\n",
    "        heapq.heappush(nodes, Node(freq[i], chars[i]))\n",
    "    \n",
    "    while len(nodes) > 1:\n",
    "        left = heapq.heappop(nodes)\n",
    "        right = heapq.heappop(nodes)\n",
    "\n",
    "        left.huff = 0\n",
    "        right.huff = 1\n",
    "        # Combining the two smallest nodes to create a new node as their parent\n",
    "        new_node = Node(left.freq + right.freq, left.symbol + right.symbol, left, right)\n",
    "        # node(freq, symbol, left, right)\n",
    "        heapq.heappush(nodes, new_node)\n",
    "    \n",
    "    root_node = nodes[0] # Get the root of the Huffman Tree\n",
    "    root_node.print_nodes() # Print Huffman code"
   ]
  },
  {
   "cell_type": "code",
   "execution_count": 3,
   "id": "4c92c209",
   "metadata": {},
   "outputs": [
    {
     "name": "stdout",
     "output_type": "stream",
     "text": [
      "f -> 0\n",
      "c -> 100\n",
      "d -> 101\n",
      "a -> 1100\n",
      "b -> 1101\n",
      "e -> 111\n"
     ]
    }
   ],
   "source": [
    "import heapq\n",
    "#Creating Huffman tree node\n",
    "class Node:\n",
    "    def __init__(self, freq, symbol, left=None, right=None):\n",
    "        self.freq = freq # frequency of symbol\n",
    "        self.symbol = symbol # symbol name (character)\n",
    "        self.left = left # node left of the current node\n",
    "        self.right = right # node right of the current node\n",
    "        self.huff = '' # tree direction (0/1)\n",
    "    \n",
    "    def __lt__(self, nxt): # Check if current frequency is less than the next node's freq\n",
    "        return self.freq < nxt.freq\n",
    "\n",
    "    def print_nodes(self, val=''):\n",
    "        new_val = val + str(self.huff)\n",
    "        # if the node is not an edge node then traverse inside it\n",
    "        if self.left:\n",
    "            self.left.print_nodes(new_val)\n",
    "        if self.right:\n",
    "            self.right.print_nodes(new_val)\n",
    "        \n",
    "        # if the node is an edge node then display its Huffman code\n",
    "        if not self.left and not self.right:\n",
    "            print(\"{} -> {}\".format(self.symbol, new_val))\n",
    "\n",
    "if __name__ == \"__main__\":\n",
    "    chars = ['a', 'b', 'c', 'd', 'e', 'f']\n",
    "    freq = [5, 9, 12, 13, 16, 45]\n",
    "    nodes = []\n",
    "\n",
    "    for i in range(len(chars)): # converting characters and frequencies into Huffman tree node\n",
    "        heapq.heappush(nodes, Node(freq[i], chars[i]))\n",
    "    \n",
    "    while len(nodes) > 1:\n",
    "        left = heapq.heappop(nodes)\n",
    "        right = heapq.heappop(nodes)\n",
    "\n",
    "        left.huff = 0\n",
    "        right.huff = 1\n",
    "        # Combining the two smallest nodes to create a new node as their parent\n",
    "        new_node = Node(left.freq + right.freq, left.symbol + right.symbol, left, right)\n",
    "        # node(freq, symbol, left, right)\n",
    "        heapq.heappush(nodes, new_node)\n",
    "    \n",
    "    root_node = nodes[0] # Get the root of the Huffman Tree\n",
    "    root_node.print_nodes() # Print Huffman code"
   ]
  },
  {
   "cell_type": "code",
   "execution_count": null,
   "id": "d970fdcb",
   "metadata": {},
   "outputs": [],
   "source": []
  }
 ],
 "metadata": {
  "kernelspec": {
   "display_name": "Python 3 (ipykernel)",
   "language": "python",
   "name": "python3"
  },
  "language_info": {
   "codemirror_mode": {
    "name": "ipython",
    "version": 3
   },
   "file_extension": ".py",
   "mimetype": "text/x-python",
   "name": "python",
   "nbconvert_exporter": "python",
   "pygments_lexer": "ipython3",
   "version": "3.9.13"
  }
 },
 "nbformat": 4,
 "nbformat_minor": 5
}
