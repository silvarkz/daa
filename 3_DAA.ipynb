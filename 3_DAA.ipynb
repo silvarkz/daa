{
 "cells": [
  {
   "cell_type": "code",
   "execution_count": 1,
   "id": "3a3e9aa3",
   "metadata": {},
   "outputs": [
    {
     "name": "stdout",
     "output_type": "stream",
     "text": [
      "60\n",
      "160\n",
      "240\n"
     ]
    }
   ],
   "source": [
    "def fractional_knapsack():\n",
    "    weights = [10, 20, 30]\n",
    "    values = [60, 100, 120]\n",
    "    capacity = 50\n",
    "    res = 0\n",
    "    # Pair : [Weight, value]\n",
    "    for pair in sorted(zip(weights, values), key=lambda x: x[1] / x[0], reverse=True):\n",
    "        if capacity <= 0:  # Capacity completed - Bag fully filled\n",
    "            break\n",
    "        if pair[0] > capacity: # Current's weight with the highest value/weight \n",
    "            res += int(capacity * (pair[1] / pair[0])) # Completely fill the bag\n",
    "            capacity = 0\n",
    "        elif pair[0] <= capacity: # Take the whole object\n",
    "            res += pair[1]\n",
    "            capacity -= pair[0]\n",
    "        print(res)\n",
    "if __name__ == \"__main__\":\n",
    "    fractional_knapsack()"
   ]
  },
  {
   "cell_type": "code",
   "execution_count": 2,
   "id": "03d6b0d7",
   "metadata": {},
   "outputs": [
    {
     "name": "stdout",
     "output_type": "stream",
     "text": [
      "60\n",
      "160\n",
      "240\n"
     ]
    }
   ],
   "source": [
    "def fractional_knapsack():\n",
    "    weights = [10, 20, 30]\n",
    "    values = [60, 100, 120]\n",
    "    capacity = 50\n",
    "    res = 0\n",
    "    # Pair : [Weight, value]\n",
    "    for pair in sorted(zip(weights, values), key=lambda x: x[1] / x[0], reverse=True):\n",
    "        if capacity <= 0:  # Capacity completed - Bag fully filled\n",
    "            break\n",
    "        if pair[0] > capacity: # Current's weight with the highest value/weight \n",
    "            res += int(capacity * (pair[1] / pair[0])) # Completely fill the bag\n",
    "            capacity = 0\n",
    "        elif pair[0] <= capacity: # Take the whole object\n",
    "            res += pair[1]\n",
    "            capacity -= pair[0]\n",
    "        print(res)\n",
    "if __name__ == \"__main__\":\n",
    "    fractional_knapsack()"
   ]
  },
  {
   "cell_type": "code",
   "execution_count": null,
   "id": "63fd4894",
   "metadata": {},
   "outputs": [],
   "source": []
  }
 ],
 "metadata": {
  "kernelspec": {
   "display_name": "Python 3 (ipykernel)",
   "language": "python",
   "name": "python3"
  },
  "language_info": {
   "codemirror_mode": {
    "name": "ipython",
    "version": 3
   },
   "file_extension": ".py",
   "mimetype": "text/x-python",
   "name": "python",
   "nbconvert_exporter": "python",
   "pygments_lexer": "ipython3",
   "version": "3.9.13"
  }
 },
 "nbformat": 4,
 "nbformat_minor": 5
}
