{
 "cells": [
  {
   "cell_type": "code",
   "execution_count": 1,
   "id": "fa410e3b",
   "metadata": {},
   "outputs": [
    {
     "name": "stdout",
     "output_type": "stream",
     "text": [
      "0 1 0 0\n",
      "0 0 0 1\n",
      "1 0 0 0\n",
      "0 0 1 0\n",
      "\n",
      "0 0 1 0\n",
      "1 0 0 0\n",
      "0 0 0 1\n",
      "0 1 0 0\n",
      "\n"
     ]
    }
   ],
   "source": [
    "def n_queens(n):\n",
    "    res=[]\n",
    "    def is_safe(r,c,col,pos_diag,neg_diag):\n",
    "        return c not in col and (r+c) not in pos_diag and (r-c) not in neg_diag\n",
    "    def backtrack(r, col, pos_diag, neg_diag, board):\n",
    "        if r==n:\n",
    "            res.append([\" \".join(row) for row in board])\n",
    "            return\n",
    "        for c in range(n):\n",
    "            if is_safe(r, c, col, pos_diag, neg_diag):\n",
    "                backtrack(\n",
    "                r+1,\n",
    "                col|{c},\n",
    "                pos_diag|{r+c},\n",
    "                neg_diag|{r-c},\n",
    "                board + [[\"1\" if j==c else \"0\" for j in range(n)]]\n",
    "                )\n",
    "    backtrack(0, set(), set(), set(), [])\n",
    "    for sol in res:\n",
    "        for row in sol:\n",
    "            print(row)\n",
    "        print()\n",
    "if __name__==\"__main__\":\n",
    "    n_queens(4)"
   ]
  },
  {
   "cell_type": "code",
   "execution_count": 2,
   "id": "026c5282",
   "metadata": {},
   "outputs": [
    {
     "name": "stdout",
     "output_type": "stream",
     "text": [
      "0 1 0 0\n",
      "0 0 0 1\n",
      "1 0 0 0\n",
      "0 0 1 0\n",
      "\n",
      "0 0 1 0\n",
      "1 0 0 0\n",
      "0 0 0 1\n",
      "0 1 0 0\n",
      "\n"
     ]
    }
   ],
   "source": [
    "def n_queens(n):\n",
    "    res=[]\n",
    "    def is_safe(r,c,col,pos_diag,neg_diag):\n",
    "        return c not in col and (r+c) not in pos_diag and (r-c) not in neg_diag\n",
    "    def backtrack(r, col, pos_diag, neg_diag, board):\n",
    "        if r==n:\n",
    "            res.append([\" \".join(row) for row in board])\n",
    "            return\n",
    "        for c in range(n):\n",
    "            if is_safe(r, c, col, pos_diag, neg_diag):\n",
    "                backtrack(\n",
    "                r+1,\n",
    "                col|{c},\n",
    "                pos_diag|{r+c},\n",
    "                neg_diag|{r-c},\n",
    "                board + [[\"1\" if j==c else \"0\" for j in range(n)]]\n",
    "                )\n",
    "    backtrack(0, set(), set(), set(), [])\n",
    "    for sol in res:\n",
    "        for row in sol:\n",
    "            print(row)\n",
    "        print()\n",
    "if __name__==\"__main__\":\n",
    "    n_queens(4)"
   ]
  },
  {
   "cell_type": "code",
   "execution_count": null,
   "id": "a88db762",
   "metadata": {},
   "outputs": [],
   "source": []
  }
 ],
 "metadata": {
  "kernelspec": {
   "display_name": "Python 3 (ipykernel)",
   "language": "python",
   "name": "python3"
  },
  "language_info": {
   "codemirror_mode": {
    "name": "ipython",
    "version": 3
   },
   "file_extension": ".py",
   "mimetype": "text/x-python",
   "name": "python",
   "nbconvert_exporter": "python",
   "pygments_lexer": "ipython3",
   "version": "3.9.13"
  }
 },
 "nbformat": 4,
 "nbformat_minor": 5
}
